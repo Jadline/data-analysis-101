{
 "cells": [
  {
   "cell_type": "code",
   "execution_count": 1,
   "id": "a730d9d8",
   "metadata": {},
   "outputs": [],
   "source": [
    "#importing the necessary \n",
    "import pandas as pd\n",
    "import numpy as np\n",
    "import matplotlib.pyplot as plt\n",
    "import seaborn as sns\n",
    "import warnings\n",
    "warnings.filterwarnings('ignore')"
   ]
  },
  {
   "cell_type": "code",
   "execution_count": 2,
   "id": "2c03e27c",
   "metadata": {},
   "outputs": [
    {
     "data": {
      "text/html": [
       "<div>\n",
       "<style scoped>\n",
       "    .dataframe tbody tr th:only-of-type {\n",
       "        vertical-align: middle;\n",
       "    }\n",
       "\n",
       "    .dataframe tbody tr th {\n",
       "        vertical-align: top;\n",
       "    }\n",
       "\n",
       "    .dataframe thead th {\n",
       "        text-align: right;\n",
       "    }\n",
       "</style>\n",
       "<table border=\"1\" class=\"dataframe\">\n",
       "  <thead>\n",
       "    <tr style=\"text-align: right;\">\n",
       "      <th></th>\n",
       "      <th>invoice_no</th>\n",
       "      <th>customer_id</th>\n",
       "      <th>gender</th>\n",
       "      <th>age</th>\n",
       "      <th>category</th>\n",
       "      <th>quantity</th>\n",
       "      <th>price</th>\n",
       "      <th>payment_method</th>\n",
       "      <th>invoice_date</th>\n",
       "      <th>shopping_mall</th>\n",
       "    </tr>\n",
       "  </thead>\n",
       "  <tbody>\n",
       "    <tr>\n",
       "      <th>0</th>\n",
       "      <td>I138884</td>\n",
       "      <td>C241288</td>\n",
       "      <td>Female</td>\n",
       "      <td>28</td>\n",
       "      <td>Clothing</td>\n",
       "      <td>5</td>\n",
       "      <td>1500.40</td>\n",
       "      <td>Credit Card</td>\n",
       "      <td>5/8/2022</td>\n",
       "      <td>Kanyon</td>\n",
       "    </tr>\n",
       "    <tr>\n",
       "      <th>1</th>\n",
       "      <td>I317333</td>\n",
       "      <td>C111565</td>\n",
       "      <td>Male</td>\n",
       "      <td>21</td>\n",
       "      <td>Shoes</td>\n",
       "      <td>3</td>\n",
       "      <td>1800.51</td>\n",
       "      <td>Debit Card</td>\n",
       "      <td>12/12/2021</td>\n",
       "      <td>Forum Istanbul</td>\n",
       "    </tr>\n",
       "    <tr>\n",
       "      <th>2</th>\n",
       "      <td>I127801</td>\n",
       "      <td>C266599</td>\n",
       "      <td>Male</td>\n",
       "      <td>20</td>\n",
       "      <td>Clothing</td>\n",
       "      <td>1</td>\n",
       "      <td>300.08</td>\n",
       "      <td>Cash</td>\n",
       "      <td>9/11/2021</td>\n",
       "      <td>Metrocity</td>\n",
       "    </tr>\n",
       "    <tr>\n",
       "      <th>3</th>\n",
       "      <td>I173702</td>\n",
       "      <td>C988172</td>\n",
       "      <td>Female</td>\n",
       "      <td>66</td>\n",
       "      <td>Shoes</td>\n",
       "      <td>5</td>\n",
       "      <td>3000.85</td>\n",
       "      <td>Credit Card</td>\n",
       "      <td>16/05/2021</td>\n",
       "      <td>Metropol AVM</td>\n",
       "    </tr>\n",
       "    <tr>\n",
       "      <th>4</th>\n",
       "      <td>I337046</td>\n",
       "      <td>C189076</td>\n",
       "      <td>Female</td>\n",
       "      <td>53</td>\n",
       "      <td>Books</td>\n",
       "      <td>4</td>\n",
       "      <td>60.60</td>\n",
       "      <td>Cash</td>\n",
       "      <td>24/10/2021</td>\n",
       "      <td>Kanyon</td>\n",
       "    </tr>\n",
       "  </tbody>\n",
       "</table>\n",
       "</div>"
      ],
      "text/plain": [
       "  invoice_no customer_id  gender  age  category  quantity    price  \\\n",
       "0    I138884     C241288  Female   28  Clothing         5  1500.40   \n",
       "1    I317333     C111565    Male   21     Shoes         3  1800.51   \n",
       "2    I127801     C266599    Male   20  Clothing         1   300.08   \n",
       "3    I173702     C988172  Female   66     Shoes         5  3000.85   \n",
       "4    I337046     C189076  Female   53     Books         4    60.60   \n",
       "\n",
       "  payment_method invoice_date   shopping_mall  \n",
       "0    Credit Card     5/8/2022          Kanyon  \n",
       "1     Debit Card   12/12/2021  Forum Istanbul  \n",
       "2           Cash    9/11/2021       Metrocity  \n",
       "3    Credit Card   16/05/2021    Metropol AVM  \n",
       "4           Cash   24/10/2021          Kanyon  "
      ]
     },
     "execution_count": 2,
     "metadata": {},
     "output_type": "execute_result"
    }
   ],
   "source": [
    "#load the dataframe\n",
    "df = pd.read_csv('customer_shopping_data.csv')\n",
    "df.head()"
   ]
  },
  {
   "cell_type": "code",
   "execution_count": 89,
   "id": "7bcabdd5",
   "metadata": {},
   "outputs": [
    {
     "data": {
      "text/plain": [
       "(99457, 10)"
      ]
     },
     "execution_count": 89,
     "metadata": {},
     "output_type": "execute_result"
    }
   ],
   "source": [
    "df.shape"
   ]
  },
  {
   "cell_type": "markdown",
   "id": "a0565219",
   "metadata": {},
   "source": [
    "DEFINING THE PROBLEM STATEMENT\n",
    "How can we increase the sales of clothing in the mall thats having the least amount of sales when it comes to selling clothes \n",
    "Predict the sales for 2024/2025 for that mall"
   ]
  },
  {
   "cell_type": "markdown",
   "id": "f257104f",
   "metadata": {},
   "source": [
    "# DATA CLEANING\n"
   ]
  },
  {
   "cell_type": "code",
   "execution_count": 3,
   "id": "dd1fca8f",
   "metadata": {},
   "outputs": [],
   "source": [
    "#dropping duplicates\n",
    "df.loc[df.duplicated()]\n",
    "df.drop_duplicates(inplace=True)\n",
    "#no duplicates found"
   ]
  },
  {
   "cell_type": "code",
   "execution_count": 4,
   "id": "9d5a9ced",
   "metadata": {},
   "outputs": [
    {
     "data": {
      "text/plain": [
       "invoice_no        0\n",
       "customer_id       0\n",
       "gender            0\n",
       "age               0\n",
       "category          0\n",
       "quantity          0\n",
       "price             0\n",
       "payment_method    0\n",
       "invoice_date      0\n",
       "shopping_mall     0\n",
       "dtype: int64"
      ]
     },
     "execution_count": 4,
     "metadata": {},
     "output_type": "execute_result"
    }
   ],
   "source": [
    "#identifying null values\n",
    "df.isnull().sum()  # there are no null values"
   ]
  },
  {
   "cell_type": "code",
   "execution_count": 5,
   "id": "a2860a82",
   "metadata": {},
   "outputs": [
    {
     "name": "stdout",
     "output_type": "stream",
     "text": [
      "<class 'pandas.core.frame.DataFrame'>\n",
      "Int64Index: 99457 entries, 0 to 99456\n",
      "Data columns (total 10 columns):\n",
      " #   Column          Non-Null Count  Dtype  \n",
      "---  ------          --------------  -----  \n",
      " 0   invoice_no      99457 non-null  object \n",
      " 1   customer_id     99457 non-null  object \n",
      " 2   gender          99457 non-null  object \n",
      " 3   age             99457 non-null  int64  \n",
      " 4   category        99457 non-null  object \n",
      " 5   quantity        99457 non-null  int64  \n",
      " 6   price           99457 non-null  float64\n",
      " 7   payment_method  99457 non-null  object \n",
      " 8   invoice_date    99457 non-null  object \n",
      " 9   shopping_mall   99457 non-null  object \n",
      "dtypes: float64(1), int64(2), object(7)\n",
      "memory usage: 8.3+ MB\n"
     ]
    }
   ],
   "source": [
    "#dtypes\n",
    "df.info()"
   ]
  },
  {
   "cell_type": "code",
   "execution_count": 6,
   "id": "8ad1ab56",
   "metadata": {},
   "outputs": [
    {
     "data": {
      "text/plain": [
       "0   2022-05-08\n",
       "1   2021-12-12\n",
       "2   2021-09-11\n",
       "Name: invoice_date, dtype: datetime64[ns]"
      ]
     },
     "execution_count": 6,
     "metadata": {},
     "output_type": "execute_result"
    }
   ],
   "source": [
    "#converting invoice date to datetime\n",
    "df['invoice_date'] = pd.to_datetime(df['invoice_date'])\n",
    "df['invoice_date'].head(3)"
   ]
  },
  {
   "cell_type": "code",
   "execution_count": 7,
   "id": "938cc86e",
   "metadata": {},
   "outputs": [
    {
     "data": {
      "text/plain": [
       "dtype('<M8[ns]')"
      ]
     },
     "execution_count": 7,
     "metadata": {},
     "output_type": "execute_result"
    }
   ],
   "source": [
    "df['invoice_date'].dtype"
   ]
  },
  {
   "cell_type": "code",
   "execution_count": 8,
   "id": "5b325714",
   "metadata": {},
   "outputs": [
    {
     "data": {
      "text/plain": [
       "True"
      ]
     },
     "execution_count": 8,
     "metadata": {},
     "output_type": "execute_result"
    }
   ],
   "source": [
    "#Analyzing the invoice no\n",
    "def check_invoice_no(series):\n",
    "    condition = series.apply(lambda x : x.startswith(\"I\") and x[1:].isdigit() and len(x) == 7)\n",
    "    \n",
    "    return condition.all()\n",
    "result = check_invoice_no(df['invoice_no'])\n",
    "result"
   ]
  },
  {
   "cell_type": "code",
   "execution_count": 9,
   "id": "74a7a92b",
   "metadata": {},
   "outputs": [
    {
     "data": {
      "text/plain": [
       "True"
      ]
     },
     "execution_count": 9,
     "metadata": {},
     "output_type": "execute_result"
    }
   ],
   "source": [
    "#Analyzing customer_id\n",
    "def check_customer_id(series):\n",
    "    condition = series.apply(lambda x : x.startswith(\"C\") and x[1:].isdigit() and len(x) == 7)\n",
    "    \n",
    "    return condition.all()\n",
    "result = check_customer_id(df['customer_id'])\n",
    "result"
   ]
  },
  {
   "cell_type": "code",
   "execution_count": 10,
   "id": "8b642063",
   "metadata": {},
   "outputs": [
    {
     "data": {
      "text/html": [
       "<div>\n",
       "<style scoped>\n",
       "    .dataframe tbody tr th:only-of-type {\n",
       "        vertical-align: middle;\n",
       "    }\n",
       "\n",
       "    .dataframe tbody tr th {\n",
       "        vertical-align: top;\n",
       "    }\n",
       "\n",
       "    .dataframe thead th {\n",
       "        text-align: right;\n",
       "    }\n",
       "</style>\n",
       "<table border=\"1\" class=\"dataframe\">\n",
       "  <thead>\n",
       "    <tr style=\"text-align: right;\">\n",
       "      <th></th>\n",
       "      <th>invoice_no</th>\n",
       "      <th>customer_id</th>\n",
       "      <th>gender</th>\n",
       "      <th>age</th>\n",
       "      <th>category</th>\n",
       "      <th>quantity</th>\n",
       "      <th>price</th>\n",
       "      <th>payment_method</th>\n",
       "      <th>invoice_date</th>\n",
       "      <th>shopping_mall</th>\n",
       "    </tr>\n",
       "  </thead>\n",
       "  <tbody>\n",
       "    <tr>\n",
       "      <th>0</th>\n",
       "      <td>I138884</td>\n",
       "      <td>C241288</td>\n",
       "      <td>Female</td>\n",
       "      <td>28</td>\n",
       "      <td>Clothing</td>\n",
       "      <td>5</td>\n",
       "      <td>1500.40</td>\n",
       "      <td>Credit Card</td>\n",
       "      <td>2022-05-08</td>\n",
       "      <td>Kanyon</td>\n",
       "    </tr>\n",
       "    <tr>\n",
       "      <th>2</th>\n",
       "      <td>I127801</td>\n",
       "      <td>C266599</td>\n",
       "      <td>Male</td>\n",
       "      <td>20</td>\n",
       "      <td>Clothing</td>\n",
       "      <td>1</td>\n",
       "      <td>300.08</td>\n",
       "      <td>Cash</td>\n",
       "      <td>2021-09-11</td>\n",
       "      <td>Metrocity</td>\n",
       "    </tr>\n",
       "    <tr>\n",
       "      <th>5</th>\n",
       "      <td>I227836</td>\n",
       "      <td>C657758</td>\n",
       "      <td>Female</td>\n",
       "      <td>28</td>\n",
       "      <td>Clothing</td>\n",
       "      <td>5</td>\n",
       "      <td>1500.40</td>\n",
       "      <td>Credit Card</td>\n",
       "      <td>2022-05-24</td>\n",
       "      <td>Forum Istanbul</td>\n",
       "    </tr>\n",
       "    <tr>\n",
       "      <th>7</th>\n",
       "      <td>I293112</td>\n",
       "      <td>C176086</td>\n",
       "      <td>Female</td>\n",
       "      <td>32</td>\n",
       "      <td>Clothing</td>\n",
       "      <td>2</td>\n",
       "      <td>600.16</td>\n",
       "      <td>Credit Card</td>\n",
       "      <td>2021-01-13</td>\n",
       "      <td>Mall of Istanbul</td>\n",
       "    </tr>\n",
       "    <tr>\n",
       "      <th>8</th>\n",
       "      <td>I293455</td>\n",
       "      <td>C159642</td>\n",
       "      <td>Male</td>\n",
       "      <td>69</td>\n",
       "      <td>Clothing</td>\n",
       "      <td>3</td>\n",
       "      <td>900.24</td>\n",
       "      <td>Credit Card</td>\n",
       "      <td>2021-04-11</td>\n",
       "      <td>Metrocity</td>\n",
       "    </tr>\n",
       "  </tbody>\n",
       "</table>\n",
       "</div>"
      ],
      "text/plain": [
       "  invoice_no customer_id  gender  age  category  quantity    price  \\\n",
       "0    I138884     C241288  Female   28  Clothing         5  1500.40   \n",
       "2    I127801     C266599    Male   20  Clothing         1   300.08   \n",
       "5    I227836     C657758  Female   28  Clothing         5  1500.40   \n",
       "7    I293112     C176086  Female   32  Clothing         2   600.16   \n",
       "8    I293455     C159642    Male   69  Clothing         3   900.24   \n",
       "\n",
       "  payment_method invoice_date     shopping_mall  \n",
       "0    Credit Card   2022-05-08            Kanyon  \n",
       "2           Cash   2021-09-11         Metrocity  \n",
       "5    Credit Card   2022-05-24    Forum Istanbul  \n",
       "7    Credit Card   2021-01-13  Mall of Istanbul  \n",
       "8    Credit Card   2021-04-11         Metrocity  "
      ]
     },
     "execution_count": 10,
     "metadata": {},
     "output_type": "execute_result"
    }
   ],
   "source": [
    "#focus is on clothing\n",
    "cloth_df = df.loc[df['category'] == 'Clothing']\n",
    "cloth_df.head()"
   ]
  },
  {
   "cell_type": "code",
   "execution_count": 11,
   "id": "a255e023",
   "metadata": {},
   "outputs": [
    {
     "data": {
      "text/plain": [
       "<Axes: >"
      ]
     },
     "execution_count": 11,
     "metadata": {},
     "output_type": "execute_result"
    },
    {
     "data": {
      "image/png": "[encoded data removed]",
      "text/plain": [
       "<Figure size 640x480 with 1 Axes>"
      ]
     },
     "metadata": {},
     "output_type": "display_data"
    }
   ],
   "source": [
    "#identify outliers\n",
    "sns.boxplot(cloth_df['price'],orient='h')"
   ]
  },
  {
   "cell_type": "code",
   "execution_count": 115,
   "id": "9edf49c0",
   "metadata": {},
   "outputs": [
    {
     "data": {
      "image/png": "[encoded data removed]",
      "text/plain": [
       "<Figure size 640x480 with 1 Axes>"
      ]
     },
     "metadata": {},
     "output_type": "display_data"
    }
   ],
   "source": [
    "sns.distplot(cloth_df['price']) #the distribution of the sale of clothes is periodic\n",
    "plt.xlabel('Price')\n",
    "plt.ylabel('Density')\n",
    "plt.title(\"Distribution of prices\")\n",
    "\n",
    "plt.savefig('dist.png', bbox_inches='tight')\n",
    "plt.show()"
   ]
  },
  {
   "cell_type": "code",
   "execution_count": 13,
   "id": "31b16d0b",
   "metadata": {},
   "outputs": [
    {
     "data": {
      "image/png": "[encoded data removed]",
      "text/plain": [
       "<Figure size 640x480 with 1 Axes>"
      ]
     },
     "metadata": {},
     "output_type": "display_data"
    }
   ],
   "source": [
    "sns.scatterplot(x=cloth_df['shopping_mall'],y=cloth_df['price'],data=cloth_df)\n",
    "plt.xticks(rotation = 45,ha='right')\n",
    "plt.show()  # there are no outliers but the prices are being sold at similar prices in all the malls"
   ]
  },
  {
   "cell_type": "code",
   "execution_count": 100,
   "id": "10fde069",
   "metadata": {},
   "outputs": [
    {
     "data": {
      "image/png": "[encoded data removed]",
      "text/plain": [
       "<Figure size 640x480 with 1 Axes>"
      ]
     },
     "metadata": {},
     "output_type": "display_data"
    }
   ],
   "source": [
    "ax = sns.barplot(x = cloth_df['shopping_mall'],y = cloth_df['price'])\n",
    "plt.xticks(rotation =45,ha='right')\n",
    "plt.xlabel('Shopping Mall')\n",
    "plt.ylabel('Average Price')\n",
    "plt.title(\"Average Prices of clothes in different shopping malls\")\n",
    "\n",
    "plt.savefig('average_price.png', bbox_inches='tight')\n",
    "plt.show()"
   ]
  },
  {
   "cell_type": "code",
   "execution_count": 96,
   "id": "fd637915",
   "metadata": {},
   "outputs": [
    {
     "data": {
      "text/plain": [
       "'C:\\\\Users\\\\user\\\\Data Analysis 1'"
      ]
     },
     "execution_count": 96,
     "metadata": {},
     "output_type": "execute_result"
    }
   ],
   "source": [
    "import os\n",
    "os.getcwd()\n"
   ]
  },
  {
   "cell_type": "code",
   "execution_count": 14,
   "id": "66f0bc98",
   "metadata": {},
   "outputs": [
    {
     "data": {
      "text/plain": [
       "shopping_mall\n",
       "Cevahir AVM          1554414.40\n",
       "Emaar Square Mall    1511803.04\n",
       "Forum Istanbul       1572119.12\n",
       "Istinye Park         3050313.20\n",
       "Kanyon               6155541.04\n",
       "Mall of Istanbul     6245565.04\n",
       "Metrocity            4719958.32\n",
       "Metropol AVM         3166444.16\n",
       "Viaport Outlet       1530708.08\n",
       "Zorlu Center         1568818.24\n",
       "Name: price, dtype: float64"
      ]
     },
     "execution_count": 14,
     "metadata": {},
     "output_type": "execute_result"
    }
   ],
   "source": [
    "#which mall is making the least sales \n",
    "cloth_df.groupby('shopping_mall')['price'].sum()"
   ]
  },
  {
   "cell_type": "code",
   "execution_count": 61,
   "id": "51a03307",
   "metadata": {},
   "outputs": [
    {
     "data": {
      "text/html": [
       "<div>\n",
       "<style scoped>\n",
       "    .dataframe tbody tr th:only-of-type {\n",
       "        vertical-align: middle;\n",
       "    }\n",
       "\n",
       "    .dataframe tbody tr th {\n",
       "        vertical-align: top;\n",
       "    }\n",
       "\n",
       "    .dataframe thead th {\n",
       "        text-align: right;\n",
       "    }\n",
       "</style>\n",
       "<table border=\"1\" class=\"dataframe\">\n",
       "  <thead>\n",
       "    <tr style=\"text-align: right;\">\n",
       "      <th></th>\n",
       "      <th>invoice_no</th>\n",
       "      <th>customer_id</th>\n",
       "      <th>gender</th>\n",
       "      <th>age</th>\n",
       "      <th>category</th>\n",
       "      <th>quantity</th>\n",
       "      <th>price</th>\n",
       "      <th>payment_method</th>\n",
       "      <th>invoice_date</th>\n",
       "      <th>shopping_mall</th>\n",
       "      <th>year</th>\n",
       "      <th>month</th>\n",
       "    </tr>\n",
       "  </thead>\n",
       "  <tbody>\n",
       "    <tr>\n",
       "      <th>0</th>\n",
       "      <td>I138884</td>\n",
       "      <td>C241288</td>\n",
       "      <td>Female</td>\n",
       "      <td>28</td>\n",
       "      <td>Clothing</td>\n",
       "      <td>5</td>\n",
       "      <td>1500.40</td>\n",
       "      <td>Credit Card</td>\n",
       "      <td>2022-05-08</td>\n",
       "      <td>Kanyon</td>\n",
       "      <td>2022</td>\n",
       "      <td>5</td>\n",
       "    </tr>\n",
       "    <tr>\n",
       "      <th>2</th>\n",
       "      <td>I127801</td>\n",
       "      <td>C266599</td>\n",
       "      <td>Male</td>\n",
       "      <td>20</td>\n",
       "      <td>Clothing</td>\n",
       "      <td>1</td>\n",
       "      <td>300.08</td>\n",
       "      <td>Cash</td>\n",
       "      <td>2021-09-11</td>\n",
       "      <td>Metrocity</td>\n",
       "      <td>2021</td>\n",
       "      <td>9</td>\n",
       "    </tr>\n",
       "    <tr>\n",
       "      <th>5</th>\n",
       "      <td>I227836</td>\n",
       "      <td>C657758</td>\n",
       "      <td>Female</td>\n",
       "      <td>28</td>\n",
       "      <td>Clothing</td>\n",
       "      <td>5</td>\n",
       "      <td>1500.40</td>\n",
       "      <td>Credit Card</td>\n",
       "      <td>2022-05-24</td>\n",
       "      <td>Forum Istanbul</td>\n",
       "      <td>2022</td>\n",
       "      <td>5</td>\n",
       "    </tr>\n",
       "    <tr>\n",
       "      <th>7</th>\n",
       "      <td>I293112</td>\n",
       "      <td>C176086</td>\n",
       "      <td>Female</td>\n",
       "      <td>32</td>\n",
       "      <td>Clothing</td>\n",
       "      <td>2</td>\n",
       "      <td>600.16</td>\n",
       "      <td>Credit Card</td>\n",
       "      <td>2021-01-13</td>\n",
       "      <td>Mall of Istanbul</td>\n",
       "      <td>2021</td>\n",
       "      <td>1</td>\n",
       "    </tr>\n",
       "    <tr>\n",
       "      <th>8</th>\n",
       "      <td>I293455</td>\n",
       "      <td>C159642</td>\n",
       "      <td>Male</td>\n",
       "      <td>69</td>\n",
       "      <td>Clothing</td>\n",
       "      <td>3</td>\n",
       "      <td>900.24</td>\n",
       "      <td>Credit Card</td>\n",
       "      <td>2021-04-11</td>\n",
       "      <td>Metrocity</td>\n",
       "      <td>2021</td>\n",
       "      <td>4</td>\n",
       "    </tr>\n",
       "  </tbody>\n",
       "</table>\n",
       "</div>"
      ],
      "text/plain": [
       "  invoice_no customer_id  gender  age  category  quantity    price  \\\n",
       "0    I138884     C241288  Female   28  Clothing         5  1500.40   \n",
       "2    I127801     C266599    Male   20  Clothing         1   300.08   \n",
       "5    I227836     C657758  Female   28  Clothing         5  1500.40   \n",
       "7    I293112     C176086  Female   32  Clothing         2   600.16   \n",
       "8    I293455     C159642    Male   69  Clothing         3   900.24   \n",
       "\n",
       "  payment_method invoice_date     shopping_mall  year  month  \n",
       "0    Credit Card   2022-05-08            Kanyon  2022      5  \n",
       "2           Cash   2021-09-11         Metrocity  2021      9  \n",
       "5    Credit Card   2022-05-24    Forum Istanbul  2022      5  \n",
       "7    Credit Card   2021-01-13  Mall of Istanbul  2021      1  \n",
       "8    Credit Card   2021-04-11         Metrocity  2021      4  "
      ]
     },
     "execution_count": 61,
     "metadata": {},
     "output_type": "execute_result"
    }
   ],
   "source": [
    "cloth_df['year'] = cloth_df['invoice_date'].dt.year\n",
    "cloth_df['month'] = cloth_df['invoice_date'].dt.month\n",
    "cloth_df.head()"
   ]
  },
  {
   "cell_type": "code",
   "execution_count": 104,
   "id": "d6786791",
   "metadata": {},
   "outputs": [
    {
     "data": {
      "text/html": [
       "<div>\n",
       "<style scoped>\n",
       "    .dataframe tbody tr th:only-of-type {\n",
       "        vertical-align: middle;\n",
       "    }\n",
       "\n",
       "    .dataframe tbody tr th {\n",
       "        vertical-align: top;\n",
       "    }\n",
       "\n",
       "    .dataframe thead th {\n",
       "        text-align: right;\n",
       "    }\n",
       "</style>\n",
       "<table border=\"1\" class=\"dataframe\">\n",
       "  <thead>\n",
       "    <tr style=\"text-align: right;\">\n",
       "      <th></th>\n",
       "      <th>shopping_mall</th>\n",
       "      <th>price</th>\n",
       "    </tr>\n",
       "  </thead>\n",
       "  <tbody>\n",
       "    <tr>\n",
       "      <th>0</th>\n",
       "      <td>Cevahir AVM</td>\n",
       "      <td>1554414.40</td>\n",
       "    </tr>\n",
       "    <tr>\n",
       "      <th>1</th>\n",
       "      <td>Emaar Square Mall</td>\n",
       "      <td>1511803.04</td>\n",
       "    </tr>\n",
       "    <tr>\n",
       "      <th>2</th>\n",
       "      <td>Forum Istanbul</td>\n",
       "      <td>1572119.12</td>\n",
       "    </tr>\n",
       "    <tr>\n",
       "      <th>3</th>\n",
       "      <td>Istinye Park</td>\n",
       "      <td>3050313.20</td>\n",
       "    </tr>\n",
       "    <tr>\n",
       "      <th>4</th>\n",
       "      <td>Kanyon</td>\n",
       "      <td>6155541.04</td>\n",
       "    </tr>\n",
       "    <tr>\n",
       "      <th>5</th>\n",
       "      <td>Mall of Istanbul</td>\n",
       "      <td>6245565.04</td>\n",
       "    </tr>\n",
       "    <tr>\n",
       "      <th>6</th>\n",
       "      <td>Metrocity</td>\n",
       "      <td>4719958.32</td>\n",
       "    </tr>\n",
       "    <tr>\n",
       "      <th>7</th>\n",
       "      <td>Metropol AVM</td>\n",
       "      <td>3166444.16</td>\n",
       "    </tr>\n",
       "    <tr>\n",
       "      <th>8</th>\n",
       "      <td>Viaport Outlet</td>\n",
       "      <td>1530708.08</td>\n",
       "    </tr>\n",
       "    <tr>\n",
       "      <th>9</th>\n",
       "      <td>Zorlu Center</td>\n",
       "      <td>1568818.24</td>\n",
       "    </tr>\n",
       "  </tbody>\n",
       "</table>\n",
       "</div>"
      ],
      "text/plain": [
       "       shopping_mall       price\n",
       "0        Cevahir AVM  1554414.40\n",
       "1  Emaar Square Mall  1511803.04\n",
       "2     Forum Istanbul  1572119.12\n",
       "3       Istinye Park  3050313.20\n",
       "4             Kanyon  6155541.04\n",
       "5   Mall of Istanbul  6245565.04\n",
       "6          Metrocity  4719958.32\n",
       "7       Metropol AVM  3166444.16\n",
       "8     Viaport Outlet  1530708.08\n",
       "9       Zorlu Center  1568818.24"
      ]
     },
     "execution_count": 104,
     "metadata": {},
     "output_type": "execute_result"
    }
   ],
   "source": [
    "mall_sales = pd.pivot_table(index='shopping_mall',values = 'price',aggfunc='sum',data=cloth_df)\n",
    "mall_sales.reset_index(inplace=True)\n",
    "mall_sales"
   ]
  },
  {
   "cell_type": "code",
   "execution_count": 63,
   "id": "6a80af3e",
   "metadata": {},
   "outputs": [
    {
     "data": {
      "text/html": [
       "<div>\n",
       "<style scoped>\n",
       "    .dataframe tbody tr th:only-of-type {\n",
       "        vertical-align: middle;\n",
       "    }\n",
       "\n",
       "    .dataframe tbody tr th {\n",
       "        vertical-align: top;\n",
       "    }\n",
       "\n",
       "    .dataframe thead tr th {\n",
       "        text-align: left;\n",
       "    }\n",
       "</style>\n",
       "<table border=\"1\" class=\"dataframe\">\n",
       "  <thead>\n",
       "    <tr>\n",
       "      <th>gender</th>\n",
       "      <th>shopping_mall</th>\n",
       "      <th colspan=\"3\" halign=\"left\">Female</th>\n",
       "      <th colspan=\"3\" halign=\"left\">Male</th>\n",
       "    </tr>\n",
       "    <tr>\n",
       "      <th>year</th>\n",
       "      <th></th>\n",
       "      <th>2021</th>\n",
       "      <th>2022</th>\n",
       "      <th>2023</th>\n",
       "      <th>2021</th>\n",
       "      <th>2022</th>\n",
       "      <th>2023</th>\n",
       "    </tr>\n",
       "  </thead>\n",
       "  <tbody>\n",
       "    <tr>\n",
       "      <th>0</th>\n",
       "      <td>Cevahir AVM</td>\n",
       "      <td>455221.36</td>\n",
       "      <td>390104.00</td>\n",
       "      <td>82221.92</td>\n",
       "      <td>299479.84</td>\n",
       "      <td>276073.60</td>\n",
       "      <td>51313.68</td>\n",
       "    </tr>\n",
       "    <tr>\n",
       "      <th>1</th>\n",
       "      <td>Emaar Square Mall</td>\n",
       "      <td>394605.20</td>\n",
       "      <td>401206.96</td>\n",
       "      <td>64517.20</td>\n",
       "      <td>300980.24</td>\n",
       "      <td>294678.56</td>\n",
       "      <td>55814.88</td>\n",
       "    </tr>\n",
       "    <tr>\n",
       "      <th>2</th>\n",
       "      <td>Forum Istanbul</td>\n",
       "      <td>430314.72</td>\n",
       "      <td>448919.68</td>\n",
       "      <td>81921.84</td>\n",
       "      <td>286876.48</td>\n",
       "      <td>273072.80</td>\n",
       "      <td>51013.60</td>\n",
       "    </tr>\n",
       "    <tr>\n",
       "      <th>3</th>\n",
       "      <td>Istinye Park</td>\n",
       "      <td>856428.32</td>\n",
       "      <td>862129.84</td>\n",
       "      <td>146138.96</td>\n",
       "      <td>523339.52</td>\n",
       "      <td>550946.88</td>\n",
       "      <td>111329.68</td>\n",
       "    </tr>\n",
       "    <tr>\n",
       "      <th>4</th>\n",
       "      <td>Kanyon</td>\n",
       "      <td>1700553.36</td>\n",
       "      <td>1723659.52</td>\n",
       "      <td>318684.96</td>\n",
       "      <td>1148406.16</td>\n",
       "      <td>1055681.44</td>\n",
       "      <td>208555.60</td>\n",
       "    </tr>\n",
       "    <tr>\n",
       "      <th>5</th>\n",
       "      <td>Mall of Istanbul</td>\n",
       "      <td>1783975.60</td>\n",
       "      <td>1638136.72</td>\n",
       "      <td>304581.20</td>\n",
       "      <td>1093791.60</td>\n",
       "      <td>1190117.28</td>\n",
       "      <td>234962.64</td>\n",
       "    </tr>\n",
       "    <tr>\n",
       "      <th>6</th>\n",
       "      <td>Metrocity</td>\n",
       "      <td>1304747.84</td>\n",
       "      <td>1286142.88</td>\n",
       "      <td>230461.44</td>\n",
       "      <td>906841.76</td>\n",
       "      <td>827620.64</td>\n",
       "      <td>164143.76</td>\n",
       "    </tr>\n",
       "    <tr>\n",
       "      <th>7</th>\n",
       "      <td>Metropol AVM</td>\n",
       "      <td>863330.16</td>\n",
       "      <td>867831.36</td>\n",
       "      <td>165644.16</td>\n",
       "      <td>606161.60</td>\n",
       "      <td>560249.36</td>\n",
       "      <td>103227.52</td>\n",
       "    </tr>\n",
       "    <tr>\n",
       "      <th>8</th>\n",
       "      <td>Viaport Outlet</td>\n",
       "      <td>425213.36</td>\n",
       "      <td>408108.80</td>\n",
       "      <td>71719.12</td>\n",
       "      <td>284475.84</td>\n",
       "      <td>292878.08</td>\n",
       "      <td>48312.88</td>\n",
       "    </tr>\n",
       "    <tr>\n",
       "      <th>9</th>\n",
       "      <td>Zorlu Center</td>\n",
       "      <td>400906.88</td>\n",
       "      <td>422212.56</td>\n",
       "      <td>87023.20</td>\n",
       "      <td>299479.84</td>\n",
       "      <td>300680.16</td>\n",
       "      <td>58515.60</td>\n",
       "    </tr>\n",
       "  </tbody>\n",
       "</table>\n",
       "</div>"
      ],
      "text/plain": [
       "gender      shopping_mall      Female                               Male  \\\n",
       "year                             2021        2022       2023        2021   \n",
       "0             Cevahir AVM   455221.36   390104.00   82221.92   299479.84   \n",
       "1       Emaar Square Mall   394605.20   401206.96   64517.20   300980.24   \n",
       "2          Forum Istanbul   430314.72   448919.68   81921.84   286876.48   \n",
       "3            Istinye Park   856428.32   862129.84  146138.96   523339.52   \n",
       "4                  Kanyon  1700553.36  1723659.52  318684.96  1148406.16   \n",
       "5        Mall of Istanbul  1783975.60  1638136.72  304581.20  1093791.60   \n",
       "6               Metrocity  1304747.84  1286142.88  230461.44   906841.76   \n",
       "7            Metropol AVM   863330.16   867831.36  165644.16   606161.60   \n",
       "8          Viaport Outlet   425213.36   408108.80   71719.12   284475.84   \n",
       "9            Zorlu Center   400906.88   422212.56   87023.20   299479.84   \n",
       "\n",
       "gender                         \n",
       "year          2022       2023  \n",
       "0        276073.60   51313.68  \n",
       "1        294678.56   55814.88  \n",
       "2        273072.80   51013.60  \n",
       "3        550946.88  111329.68  \n",
       "4       1055681.44  208555.60  \n",
       "5       1190117.28  234962.64  \n",
       "6        827620.64  164143.76  \n",
       "7        560249.36  103227.52  \n",
       "8        292878.08   48312.88  \n",
       "9        300680.16   58515.60  "
      ]
     },
     "execution_count": 63,
     "metadata": {},
     "output_type": "execute_result"
    }
   ],
   "source": [
    "total_sales = pd.pivot_table(index='shopping_mall',columns = ['gender','year'],values='price',aggfunc='sum',data=cloth_df)\n",
    "total_sales.reset_index(inplace=True)\n",
    "# total_sales.sort_values(by='price',ascending = True)\n",
    "total_sales"
   ]
  },
  {
   "cell_type": "code",
   "execution_count": 71,
   "id": "7a3ea1a9",
   "metadata": {},
   "outputs": [
    {
     "data": {
      "text/html": [
       "<div>\n",
       "<style scoped>\n",
       "    .dataframe tbody tr th:only-of-type {\n",
       "        vertical-align: middle;\n",
       "    }\n",
       "\n",
       "    .dataframe tbody tr th {\n",
       "        vertical-align: top;\n",
       "    }\n",
       "\n",
       "    .dataframe thead th {\n",
       "        text-align: right;\n",
       "    }\n",
       "</style>\n",
       "<table border=\"1\" class=\"dataframe\">\n",
       "  <thead>\n",
       "    <tr style=\"text-align: right;\">\n",
       "      <th></th>\n",
       "      <th>index</th>\n",
       "      <th>shopping_mall</th>\n",
       "      <th>Female 2021</th>\n",
       "      <th>Female 2022</th>\n",
       "      <th>Female 2023</th>\n",
       "      <th>Male 2021</th>\n",
       "      <th>Male 2022</th>\n",
       "      <th>Male 2023</th>\n",
       "    </tr>\n",
       "  </thead>\n",
       "  <tbody>\n",
       "    <tr>\n",
       "      <th>0</th>\n",
       "      <td>0</td>\n",
       "      <td>Cevahir AVM</td>\n",
       "      <td>455221.36</td>\n",
       "      <td>390104.00</td>\n",
       "      <td>82221.92</td>\n",
       "      <td>299479.84</td>\n",
       "      <td>276073.60</td>\n",
       "      <td>51313.68</td>\n",
       "    </tr>\n",
       "    <tr>\n",
       "      <th>1</th>\n",
       "      <td>1</td>\n",
       "      <td>Emaar Square Mall</td>\n",
       "      <td>394605.20</td>\n",
       "      <td>401206.96</td>\n",
       "      <td>64517.20</td>\n",
       "      <td>300980.24</td>\n",
       "      <td>294678.56</td>\n",
       "      <td>55814.88</td>\n",
       "    </tr>\n",
       "    <tr>\n",
       "      <th>2</th>\n",
       "      <td>2</td>\n",
       "      <td>Forum Istanbul</td>\n",
       "      <td>430314.72</td>\n",
       "      <td>448919.68</td>\n",
       "      <td>81921.84</td>\n",
       "      <td>286876.48</td>\n",
       "      <td>273072.80</td>\n",
       "      <td>51013.60</td>\n",
       "    </tr>\n",
       "    <tr>\n",
       "      <th>3</th>\n",
       "      <td>3</td>\n",
       "      <td>Istinye Park</td>\n",
       "      <td>856428.32</td>\n",
       "      <td>862129.84</td>\n",
       "      <td>146138.96</td>\n",
       "      <td>523339.52</td>\n",
       "      <td>550946.88</td>\n",
       "      <td>111329.68</td>\n",
       "    </tr>\n",
       "    <tr>\n",
       "      <th>4</th>\n",
       "      <td>4</td>\n",
       "      <td>Kanyon</td>\n",
       "      <td>1700553.36</td>\n",
       "      <td>1723659.52</td>\n",
       "      <td>318684.96</td>\n",
       "      <td>1148406.16</td>\n",
       "      <td>1055681.44</td>\n",
       "      <td>208555.60</td>\n",
       "    </tr>\n",
       "  </tbody>\n",
       "</table>\n",
       "</div>"
      ],
      "text/plain": [
       "   index      shopping_mall  Female 2021  Female 2022  Female 2023  \\\n",
       "0      0        Cevahir AVM    455221.36    390104.00     82221.92   \n",
       "1      1  Emaar Square Mall    394605.20    401206.96     64517.20   \n",
       "2      2     Forum Istanbul    430314.72    448919.68     81921.84   \n",
       "3      3       Istinye Park    856428.32    862129.84    146138.96   \n",
       "4      4             Kanyon   1700553.36   1723659.52    318684.96   \n",
       "\n",
       "    Male 2021   Male 2022  Male 2023  \n",
       "0   299479.84   276073.60   51313.68  \n",
       "1   300980.24   294678.56   55814.88  \n",
       "2   286876.48   273072.80   51013.60  \n",
       "3   523339.52   550946.88  111329.68  \n",
       "4  1148406.16  1055681.44  208555.60  "
      ]
     },
     "execution_count": 71,
     "metadata": {},
     "output_type": "execute_result"
    }
   ],
   "source": [
    "#flattening the multilevel dataframe \n",
    "flatten_cloth_df = total_sales.copy()\n",
    "flatten_cloth_df.columns = [' '.join(map(str, col)).strip() for  col in flatten_cloth_df.columns.values]\n",
    "flatten_cloth_df.reset_index(inplace=True)\n",
    "flatten_cloth_df.head()"
   ]
  },
  {
   "cell_type": "code",
   "execution_count": 76,
   "id": "c1131ec5",
   "metadata": {},
   "outputs": [
    {
     "data": {
      "text/html": [
       "<div>\n",
       "<style scoped>\n",
       "    .dataframe tbody tr th:only-of-type {\n",
       "        vertical-align: middle;\n",
       "    }\n",
       "\n",
       "    .dataframe tbody tr th {\n",
       "        vertical-align: top;\n",
       "    }\n",
       "\n",
       "    .dataframe thead th {\n",
       "        text-align: right;\n",
       "    }\n",
       "</style>\n",
       "<table border=\"1\" class=\"dataframe\">\n",
       "  <thead>\n",
       "    <tr style=\"text-align: right;\">\n",
       "      <th></th>\n",
       "      <th>shopping_mall</th>\n",
       "      <th>year_2021</th>\n",
       "      <th>year_2022</th>\n",
       "      <th>year_2023</th>\n",
       "    </tr>\n",
       "  </thead>\n",
       "  <tbody>\n",
       "    <tr>\n",
       "      <th>0</th>\n",
       "      <td>Cevahir AVM</td>\n",
       "      <td>754701.20</td>\n",
       "      <td>666177.60</td>\n",
       "      <td>133535.60</td>\n",
       "    </tr>\n",
       "    <tr>\n",
       "      <th>1</th>\n",
       "      <td>Emaar Square Mall</td>\n",
       "      <td>695585.44</td>\n",
       "      <td>695885.52</td>\n",
       "      <td>120332.08</td>\n",
       "    </tr>\n",
       "    <tr>\n",
       "      <th>2</th>\n",
       "      <td>Forum Istanbul</td>\n",
       "      <td>717191.20</td>\n",
       "      <td>721992.48</td>\n",
       "      <td>132935.44</td>\n",
       "    </tr>\n",
       "    <tr>\n",
       "      <th>3</th>\n",
       "      <td>Istinye Park</td>\n",
       "      <td>1379767.84</td>\n",
       "      <td>1413076.72</td>\n",
       "      <td>257468.64</td>\n",
       "    </tr>\n",
       "    <tr>\n",
       "      <th>4</th>\n",
       "      <td>Kanyon</td>\n",
       "      <td>2848959.52</td>\n",
       "      <td>2779340.96</td>\n",
       "      <td>527240.56</td>\n",
       "    </tr>\n",
       "    <tr>\n",
       "      <th>5</th>\n",
       "      <td>Mall of Istanbul</td>\n",
       "      <td>2877767.20</td>\n",
       "      <td>2828254.00</td>\n",
       "      <td>539543.84</td>\n",
       "    </tr>\n",
       "    <tr>\n",
       "      <th>6</th>\n",
       "      <td>Metrocity</td>\n",
       "      <td>2211589.60</td>\n",
       "      <td>2113763.52</td>\n",
       "      <td>394605.20</td>\n",
       "    </tr>\n",
       "    <tr>\n",
       "      <th>7</th>\n",
       "      <td>Metropol AVM</td>\n",
       "      <td>1469491.76</td>\n",
       "      <td>1428080.72</td>\n",
       "      <td>268871.68</td>\n",
       "    </tr>\n",
       "    <tr>\n",
       "      <th>8</th>\n",
       "      <td>Viaport Outlet</td>\n",
       "      <td>709689.20</td>\n",
       "      <td>700986.88</td>\n",
       "      <td>120032.00</td>\n",
       "    </tr>\n",
       "    <tr>\n",
       "      <th>9</th>\n",
       "      <td>Zorlu Center</td>\n",
       "      <td>700386.72</td>\n",
       "      <td>722892.72</td>\n",
       "      <td>145538.80</td>\n",
       "    </tr>\n",
       "  </tbody>\n",
       "</table>\n",
       "</div>"
      ],
      "text/plain": [
       "       shopping_mall   year_2021   year_2022  year_2023\n",
       "0        Cevahir AVM   754701.20   666177.60  133535.60\n",
       "1  Emaar Square Mall   695585.44   695885.52  120332.08\n",
       "2     Forum Istanbul   717191.20   721992.48  132935.44\n",
       "3       Istinye Park  1379767.84  1413076.72  257468.64\n",
       "4             Kanyon  2848959.52  2779340.96  527240.56\n",
       "5   Mall of Istanbul  2877767.20  2828254.00  539543.84\n",
       "6          Metrocity  2211589.60  2113763.52  394605.20\n",
       "7       Metropol AVM  1469491.76  1428080.72  268871.68\n",
       "8     Viaport Outlet   709689.20   700986.88  120032.00\n",
       "9       Zorlu Center   700386.72   722892.72  145538.80"
      ]
     },
     "execution_count": 76,
     "metadata": {},
     "output_type": "execute_result"
    }
   ],
   "source": [
    "year_2021 = [col for col in flatten_cloth_df.columns if '2021' in col]\n",
    "year_2022 = [col for col in flatten_cloth_df.columns if '2022' in col]\n",
    "year_2023 = [col for col in flatten_cloth_df.columns if '2023' in col]\n",
    "\n",
    "total_sales_df = pd.DataFrame({\n",
    "    'shopping_mall': flatten_cloth_df['shopping_mall'],\n",
    "    'year_2021': flatten_cloth_df[year_2021].sum(axis=1),\n",
    "    'year_2022': flatten_cloth_df[year_2022].sum(axis=1),\n",
    "    'year_2023': flatten_cloth_df[year_2023].sum(axis=1),\n",
    "\n",
    "})\n",
    "total_sales_df"
   ]
  },
  {
   "cell_type": "code",
   "execution_count": null,
   "id": "2bc89a61",
   "metadata": {},
   "outputs": [],
   "source": []
  },
  {
   "cell_type": "code",
   "execution_count": 79,
   "id": "01bd6788",
   "metadata": {},
   "outputs": [
    {
     "data": {
      "text/html": [
       "<div>\n",
       "<style scoped>\n",
       "    .dataframe tbody tr th:only-of-type {\n",
       "        vertical-align: middle;\n",
       "    }\n",
       "\n",
       "    .dataframe tbody tr th {\n",
       "        vertical-align: top;\n",
       "    }\n",
       "\n",
       "    .dataframe thead th {\n",
       "        text-align: right;\n",
       "    }\n",
       "</style>\n",
       "<table border=\"1\" class=\"dataframe\">\n",
       "  <thead>\n",
       "    <tr style=\"text-align: right;\">\n",
       "      <th></th>\n",
       "      <th>shopping_mall</th>\n",
       "      <th>year_2021</th>\n",
       "      <th>year_2022</th>\n",
       "      <th>year_2023</th>\n",
       "      <th>total_sales</th>\n",
       "    </tr>\n",
       "  </thead>\n",
       "  <tbody>\n",
       "    <tr>\n",
       "      <th>0</th>\n",
       "      <td>Cevahir AVM</td>\n",
       "      <td>754701.20</td>\n",
       "      <td>666177.60</td>\n",
       "      <td>133535.60</td>\n",
       "      <td>1554414.40</td>\n",
       "    </tr>\n",
       "    <tr>\n",
       "      <th>1</th>\n",
       "      <td>Emaar Square Mall</td>\n",
       "      <td>695585.44</td>\n",
       "      <td>695885.52</td>\n",
       "      <td>120332.08</td>\n",
       "      <td>1511803.04</td>\n",
       "    </tr>\n",
       "    <tr>\n",
       "      <th>2</th>\n",
       "      <td>Forum Istanbul</td>\n",
       "      <td>717191.20</td>\n",
       "      <td>721992.48</td>\n",
       "      <td>132935.44</td>\n",
       "      <td>1572119.12</td>\n",
       "    </tr>\n",
       "    <tr>\n",
       "      <th>3</th>\n",
       "      <td>Istinye Park</td>\n",
       "      <td>1379767.84</td>\n",
       "      <td>1413076.72</td>\n",
       "      <td>257468.64</td>\n",
       "      <td>3050313.20</td>\n",
       "    </tr>\n",
       "    <tr>\n",
       "      <th>4</th>\n",
       "      <td>Kanyon</td>\n",
       "      <td>2848959.52</td>\n",
       "      <td>2779340.96</td>\n",
       "      <td>527240.56</td>\n",
       "      <td>6155541.04</td>\n",
       "    </tr>\n",
       "  </tbody>\n",
       "</table>\n",
       "</div>"
      ],
      "text/plain": [
       "       shopping_mall   year_2021   year_2022  year_2023  total_sales\n",
       "0        Cevahir AVM   754701.20   666177.60  133535.60   1554414.40\n",
       "1  Emaar Square Mall   695585.44   695885.52  120332.08   1511803.04\n",
       "2     Forum Istanbul   717191.20   721992.48  132935.44   1572119.12\n",
       "3       Istinye Park  1379767.84  1413076.72  257468.64   3050313.20\n",
       "4             Kanyon  2848959.52  2779340.96  527240.56   6155541.04"
      ]
     },
     "execution_count": 79,
     "metadata": {},
     "output_type": "execute_result"
    }
   ],
   "source": [
    "total_sales_df['total_sales'] = total_sales_df[['year_2021', 'year_2022', 'year_2023']].sum(axis=1)\n",
    "total_sales_df.head()"
   ]
  },
  {
   "cell_type": "code",
   "execution_count": null,
   "id": "01751128",
   "metadata": {},
   "outputs": [],
   "source": []
  },
  {
   "cell_type": "code",
   "execution_count": null,
   "id": "eb2fdce9",
   "metadata": {},
   "outputs": [],
   "source": []
  },
  {
   "cell_type": "code",
   "execution_count": 109,
   "id": "e832a27f",
   "metadata": {},
   "outputs": [
    {
     "data": {
      "image/png": "[encoded data removed]",
      "text/plain": [
       "<Figure size 640x480 with 1 Axes>"
      ]
     },
     "metadata": {},
     "output_type": "display_data"
    }
   ],
   "source": [
    "mall_sales.plot(kind='bar')\n",
    "sns.barplot(x = 'shopping_mall',y='price',data=mall_sales)\n",
    "plt.xlabel('Shopping Mall')\n",
    "plt.ylabel('Sales')\n",
    "plt.title('Sales Performance of the Malls')\n",
    "plt.savefig('sales.png', bbox_inches='tight')\n",
    "plt.show()"
   ]
  },
  {
   "cell_type": "code",
   "execution_count": 19,
   "id": "5c79631d",
   "metadata": {},
   "outputs": [
    {
     "data": {
      "image/png": "[encoded data removed]",
      "text/plain": [
       "<Figure size 640x480 with 1 Axes>"
      ]
     },
     "metadata": {},
     "output_type": "display_data"
    }
   ],
   "source": [
    "sns.scatterplot(x=total_sales['shopping_mall'],y=total_sales['price'],data=total_sales)\n",
    "plt.xticks(rotation = 45,ha='right')\n",
    "plt.show() #have a relationship that follows a linear relationship"
   ]
  },
  {
   "cell_type": "code",
   "execution_count": 74,
   "id": "cc0a8451",
   "metadata": {},
   "outputs": [
    {
     "data": {
      "text/html": [
       "<div>\n",
       "<style scoped>\n",
       "    .dataframe tbody tr th:only-of-type {\n",
       "        vertical-align: middle;\n",
       "    }\n",
       "\n",
       "    .dataframe tbody tr th {\n",
       "        vertical-align: top;\n",
       "    }\n",
       "\n",
       "    .dataframe thead tr th {\n",
       "        text-align: left;\n",
       "    }\n",
       "\n",
       "    .dataframe thead tr:last-of-type th {\n",
       "        text-align: right;\n",
       "    }\n",
       "</style>\n",
       "<table border=\"1\" class=\"dataframe\">\n",
       "  <thead>\n",
       "    <tr>\n",
       "      <th>gender</th>\n",
       "      <th colspan=\"3\" halign=\"left\">Female</th>\n",
       "      <th colspan=\"3\" halign=\"left\">Male</th>\n",
       "    </tr>\n",
       "    <tr>\n",
       "      <th>year</th>\n",
       "      <th>2021</th>\n",
       "      <th>2022</th>\n",
       "      <th>2023</th>\n",
       "      <th>2021</th>\n",
       "      <th>2022</th>\n",
       "      <th>2023</th>\n",
       "    </tr>\n",
       "    <tr>\n",
       "      <th>shopping_mall</th>\n",
       "      <th></th>\n",
       "      <th></th>\n",
       "      <th></th>\n",
       "      <th></th>\n",
       "      <th></th>\n",
       "      <th></th>\n",
       "    </tr>\n",
       "  </thead>\n",
       "  <tbody>\n",
       "    <tr>\n",
       "      <th>Cevahir AVM</th>\n",
       "      <td>1517</td>\n",
       "      <td>1300</td>\n",
       "      <td>274</td>\n",
       "      <td>998</td>\n",
       "      <td>920</td>\n",
       "      <td>171</td>\n",
       "    </tr>\n",
       "    <tr>\n",
       "      <th>Emaar Square Mall</th>\n",
       "      <td>1315</td>\n",
       "      <td>1337</td>\n",
       "      <td>215</td>\n",
       "      <td>1003</td>\n",
       "      <td>982</td>\n",
       "      <td>186</td>\n",
       "    </tr>\n",
       "    <tr>\n",
       "      <th>Forum Istanbul</th>\n",
       "      <td>1434</td>\n",
       "      <td>1496</td>\n",
       "      <td>273</td>\n",
       "      <td>956</td>\n",
       "      <td>910</td>\n",
       "      <td>170</td>\n",
       "    </tr>\n",
       "    <tr>\n",
       "      <th>Istinye Park</th>\n",
       "      <td>2854</td>\n",
       "      <td>2873</td>\n",
       "      <td>487</td>\n",
       "      <td>1744</td>\n",
       "      <td>1836</td>\n",
       "      <td>371</td>\n",
       "    </tr>\n",
       "    <tr>\n",
       "      <th>Kanyon</th>\n",
       "      <td>5667</td>\n",
       "      <td>5744</td>\n",
       "      <td>1062</td>\n",
       "      <td>3827</td>\n",
       "      <td>3518</td>\n",
       "      <td>695</td>\n",
       "    </tr>\n",
       "    <tr>\n",
       "      <th>Mall of Istanbul</th>\n",
       "      <td>5945</td>\n",
       "      <td>5459</td>\n",
       "      <td>1015</td>\n",
       "      <td>3645</td>\n",
       "      <td>3966</td>\n",
       "      <td>783</td>\n",
       "    </tr>\n",
       "    <tr>\n",
       "      <th>Metrocity</th>\n",
       "      <td>4348</td>\n",
       "      <td>4286</td>\n",
       "      <td>768</td>\n",
       "      <td>3022</td>\n",
       "      <td>2758</td>\n",
       "      <td>547</td>\n",
       "    </tr>\n",
       "    <tr>\n",
       "      <th>Metropol AVM</th>\n",
       "      <td>2877</td>\n",
       "      <td>2892</td>\n",
       "      <td>552</td>\n",
       "      <td>2020</td>\n",
       "      <td>1867</td>\n",
       "      <td>344</td>\n",
       "    </tr>\n",
       "    <tr>\n",
       "      <th>Viaport Outlet</th>\n",
       "      <td>1417</td>\n",
       "      <td>1360</td>\n",
       "      <td>239</td>\n",
       "      <td>948</td>\n",
       "      <td>976</td>\n",
       "      <td>161</td>\n",
       "    </tr>\n",
       "    <tr>\n",
       "      <th>Zorlu Center</th>\n",
       "      <td>1336</td>\n",
       "      <td>1407</td>\n",
       "      <td>290</td>\n",
       "      <td>998</td>\n",
       "      <td>1002</td>\n",
       "      <td>195</td>\n",
       "    </tr>\n",
       "  </tbody>\n",
       "</table>\n",
       "</div>"
      ],
      "text/plain": [
       "gender            Female              Male           \n",
       "year                2021  2022  2023  2021  2022 2023\n",
       "shopping_mall                                        \n",
       "Cevahir AVM         1517  1300   274   998   920  171\n",
       "Emaar Square Mall   1315  1337   215  1003   982  186\n",
       "Forum Istanbul      1434  1496   273   956   910  170\n",
       "Istinye Park        2854  2873   487  1744  1836  371\n",
       "Kanyon              5667  5744  1062  3827  3518  695\n",
       "Mall of Istanbul    5945  5459  1015  3645  3966  783\n",
       "Metrocity           4348  4286   768  3022  2758  547\n",
       "Metropol AVM        2877  2892   552  2020  1867  344\n",
       "Viaport Outlet      1417  1360   239   948   976  161\n",
       "Zorlu Center        1336  1407   290   998  1002  195"
      ]
     },
     "execution_count": 74,
     "metadata": {},
     "output_type": "execute_result"
    }
   ],
   "source": [
    "#evaluating the qauntities\n",
    "total_quantity = pd.pivot_table(index='shopping_mall',aggfunc='sum',values ='quantity',data=cloth_df,columns =['gender','year'])\n",
    "# total_quantity.reset_index(inplace=True)\n",
    "# total_quantity.sort_values(by='quantity',ascending=True)\n",
    "total_quantity\n",
    "#might be that Emaar Square mall was selling less because they were selling less quantity"
   ]
  },
  {
   "cell_type": "code",
   "execution_count": 21,
   "id": "bbaec00a",
   "metadata": {},
   "outputs": [
    {
     "data": {
      "image/png": "[encoded data removed]",
      "text/plain": [
       "<Figure size 640x480 with 1 Axes>"
      ]
     },
     "metadata": {},
     "output_type": "display_data"
    }
   ],
   "source": [
    "sns.barplot(x = 'shopping_mall',y='quantity',data=total_quantity)\n",
    "plt.xticks(rotation = 45,ha='right')\n",
    "plt.show()"
   ]
  },
  {
   "cell_type": "code",
   "execution_count": 22,
   "id": "0a91d4d6",
   "metadata": {},
   "outputs": [
    {
     "data": {
      "text/html": [
       "<div>\n",
       "<style scoped>\n",
       "    .dataframe tbody tr th:only-of-type {\n",
       "        vertical-align: middle;\n",
       "    }\n",
       "\n",
       "    .dataframe tbody tr th {\n",
       "        vertical-align: top;\n",
       "    }\n",
       "\n",
       "    .dataframe thead th {\n",
       "        text-align: right;\n",
       "    }\n",
       "</style>\n",
       "<table border=\"1\" class=\"dataframe\">\n",
       "  <thead>\n",
       "    <tr style=\"text-align: right;\">\n",
       "      <th></th>\n",
       "      <th>invoice_no</th>\n",
       "      <th>customer_id</th>\n",
       "      <th>gender</th>\n",
       "      <th>age</th>\n",
       "      <th>category</th>\n",
       "      <th>quantity</th>\n",
       "      <th>price</th>\n",
       "      <th>payment_method</th>\n",
       "      <th>invoice_date</th>\n",
       "      <th>shopping_mall</th>\n",
       "    </tr>\n",
       "  </thead>\n",
       "  <tbody>\n",
       "    <tr>\n",
       "      <th>20</th>\n",
       "      <td>I183746</td>\n",
       "      <td>C220180</td>\n",
       "      <td>Male</td>\n",
       "      <td>23</td>\n",
       "      <td>Clothing</td>\n",
       "      <td>1</td>\n",
       "      <td>300.08</td>\n",
       "      <td>Credit Card</td>\n",
       "      <td>2023-02-15</td>\n",
       "      <td>Emaar Square Mall</td>\n",
       "    </tr>\n",
       "    <tr>\n",
       "      <th>31</th>\n",
       "      <td>I331891</td>\n",
       "      <td>C501658</td>\n",
       "      <td>Male</td>\n",
       "      <td>23</td>\n",
       "      <td>Clothing</td>\n",
       "      <td>1</td>\n",
       "      <td>300.08</td>\n",
       "      <td>Credit Card</td>\n",
       "      <td>2021-11-21</td>\n",
       "      <td>Emaar Square Mall</td>\n",
       "    </tr>\n",
       "    <tr>\n",
       "      <th>125</th>\n",
       "      <td>I273890</td>\n",
       "      <td>C891545</td>\n",
       "      <td>Female</td>\n",
       "      <td>41</td>\n",
       "      <td>Clothing</td>\n",
       "      <td>3</td>\n",
       "      <td>900.24</td>\n",
       "      <td>Debit Card</td>\n",
       "      <td>2021-08-26</td>\n",
       "      <td>Emaar Square Mall</td>\n",
       "    </tr>\n",
       "    <tr>\n",
       "      <th>163</th>\n",
       "      <td>I222086</td>\n",
       "      <td>C978718</td>\n",
       "      <td>Male</td>\n",
       "      <td>37</td>\n",
       "      <td>Clothing</td>\n",
       "      <td>5</td>\n",
       "      <td>1500.40</td>\n",
       "      <td>Cash</td>\n",
       "      <td>2023-09-02</td>\n",
       "      <td>Emaar Square Mall</td>\n",
       "    </tr>\n",
       "    <tr>\n",
       "      <th>242</th>\n",
       "      <td>I165461</td>\n",
       "      <td>C230766</td>\n",
       "      <td>Female</td>\n",
       "      <td>25</td>\n",
       "      <td>Clothing</td>\n",
       "      <td>1</td>\n",
       "      <td>300.08</td>\n",
       "      <td>Credit Card</td>\n",
       "      <td>2022-01-11</td>\n",
       "      <td>Emaar Square Mall</td>\n",
       "    </tr>\n",
       "    <tr>\n",
       "      <th>...</th>\n",
       "      <td>...</td>\n",
       "      <td>...</td>\n",
       "      <td>...</td>\n",
       "      <td>...</td>\n",
       "      <td>...</td>\n",
       "      <td>...</td>\n",
       "      <td>...</td>\n",
       "      <td>...</td>\n",
       "      <td>...</td>\n",
       "      <td>...</td>\n",
       "    </tr>\n",
       "    <tr>\n",
       "      <th>99216</th>\n",
       "      <td>I322506</td>\n",
       "      <td>C500090</td>\n",
       "      <td>Female</td>\n",
       "      <td>27</td>\n",
       "      <td>Clothing</td>\n",
       "      <td>4</td>\n",
       "      <td>1200.32</td>\n",
       "      <td>Credit Card</td>\n",
       "      <td>2021-05-24</td>\n",
       "      <td>Emaar Square Mall</td>\n",
       "    </tr>\n",
       "    <tr>\n",
       "      <th>99268</th>\n",
       "      <td>I319063</td>\n",
       "      <td>C174663</td>\n",
       "      <td>Female</td>\n",
       "      <td>66</td>\n",
       "      <td>Clothing</td>\n",
       "      <td>5</td>\n",
       "      <td>1500.40</td>\n",
       "      <td>Credit Card</td>\n",
       "      <td>2022-10-20</td>\n",
       "      <td>Emaar Square Mall</td>\n",
       "    </tr>\n",
       "    <tr>\n",
       "      <th>99378</th>\n",
       "      <td>I272020</td>\n",
       "      <td>C135499</td>\n",
       "      <td>Female</td>\n",
       "      <td>46</td>\n",
       "      <td>Clothing</td>\n",
       "      <td>4</td>\n",
       "      <td>1200.32</td>\n",
       "      <td>Cash</td>\n",
       "      <td>2021-04-22</td>\n",
       "      <td>Emaar Square Mall</td>\n",
       "    </tr>\n",
       "    <tr>\n",
       "      <th>99385</th>\n",
       "      <td>I484380</td>\n",
       "      <td>C293542</td>\n",
       "      <td>Female</td>\n",
       "      <td>41</td>\n",
       "      <td>Clothing</td>\n",
       "      <td>4</td>\n",
       "      <td>1200.32</td>\n",
       "      <td>Debit Card</td>\n",
       "      <td>2022-11-23</td>\n",
       "      <td>Emaar Square Mall</td>\n",
       "    </tr>\n",
       "    <tr>\n",
       "      <th>99435</th>\n",
       "      <td>I141871</td>\n",
       "      <td>C298790</td>\n",
       "      <td>Female</td>\n",
       "      <td>62</td>\n",
       "      <td>Clothing</td>\n",
       "      <td>3</td>\n",
       "      <td>900.24</td>\n",
       "      <td>Cash</td>\n",
       "      <td>2022-02-02</td>\n",
       "      <td>Emaar Square Mall</td>\n",
       "    </tr>\n",
       "  </tbody>\n",
       "</table>\n",
       "<p>1651 rows × 10 columns</p>\n",
       "</div>"
      ],
      "text/plain": [
       "      invoice_no customer_id  gender  age  category  quantity    price  \\\n",
       "20       I183746     C220180    Male   23  Clothing         1   300.08   \n",
       "31       I331891     C501658    Male   23  Clothing         1   300.08   \n",
       "125      I273890     C891545  Female   41  Clothing         3   900.24   \n",
       "163      I222086     C978718    Male   37  Clothing         5  1500.40   \n",
       "242      I165461     C230766  Female   25  Clothing         1   300.08   \n",
       "...          ...         ...     ...  ...       ...       ...      ...   \n",
       "99216    I322506     C500090  Female   27  Clothing         4  1200.32   \n",
       "99268    I319063     C174663  Female   66  Clothing         5  1500.40   \n",
       "99378    I272020     C135499  Female   46  Clothing         4  1200.32   \n",
       "99385    I484380     C293542  Female   41  Clothing         4  1200.32   \n",
       "99435    I141871     C298790  Female   62  Clothing         3   900.24   \n",
       "\n",
       "      payment_method invoice_date      shopping_mall  \n",
       "20       Credit Card   2023-02-15  Emaar Square Mall  \n",
       "31       Credit Card   2021-11-21  Emaar Square Mall  \n",
       "125       Debit Card   2021-08-26  Emaar Square Mall  \n",
       "163             Cash   2023-09-02  Emaar Square Mall  \n",
       "242      Credit Card   2022-01-11  Emaar Square Mall  \n",
       "...              ...          ...                ...  \n",
       "99216    Credit Card   2021-05-24  Emaar Square Mall  \n",
       "99268    Credit Card   2022-10-20  Emaar Square Mall  \n",
       "99378           Cash   2021-04-22  Emaar Square Mall  \n",
       "99385     Debit Card   2022-11-23  Emaar Square Mall  \n",
       "99435           Cash   2022-02-02  Emaar Square Mall  \n",
       "\n",
       "[1651 rows x 10 columns]"
      ]
     },
     "execution_count": 22,
     "metadata": {},
     "output_type": "execute_result"
    }
   ],
   "source": [
    "#sales and age\n",
    "emaar_df = cloth_df.loc[cloth_df['shopping_mall'] == 'Emaar Square Mall']\n",
    "emaar_df"
   ]
  },
  {
   "cell_type": "code",
   "execution_count": 23,
   "id": "468eb272",
   "metadata": {},
   "outputs": [
    {
     "data": {
      "text/plain": [
       "38"
      ]
     },
     "execution_count": 23,
     "metadata": {},
     "output_type": "execute_result"
    }
   ],
   "source": [
    "emaar_df.groupby('age')['price'].sum().idxmax()"
   ]
  },
  {
   "cell_type": "code",
   "execution_count": 24,
   "id": "b5173efe",
   "metadata": {},
   "outputs": [
    {
     "data": {
      "text/plain": [
       "69"
      ]
     },
     "execution_count": 24,
     "metadata": {},
     "output_type": "execute_result"
    }
   ],
   "source": [
    "emaar_df.groupby('age')['price'].sum().idxmin()"
   ]
  },
  {
   "cell_type": "code",
   "execution_count": 25,
   "id": "db400dcc",
   "metadata": {},
   "outputs": [
    {
     "data": {
      "text/plain": [
       "<Axes: xlabel='age', ylabel='price'>"
      ]
     },
     "execution_count": 25,
     "metadata": {},
     "output_type": "execute_result"
    },
    {
     "data": {
      "image/png": "[encoded data removed]",
      "text/plain": [
       "<Figure size 640x480 with 1 Axes>"
      ]
     },
     "metadata": {},
     "output_type": "display_data"
    }
   ],
   "source": [
    "from scipy.stats import linregress\n",
    "emaar_sales = pd.pivot_table(index='age',values='price',aggfunc='sum',data=emaar_df)\n",
    "emaar_sales.reset_index(inplace=True)\n",
    "emaar_sales\n",
    "#y = mx + c\n",
    "m,intercept,rv,pv,stderr = linregress(emaar_sales['age'],emaar_sales['price'])\n",
    "x = emaar_sales['age']\n",
    "y = m * x + intercept\n",
    "plt.plot(x,y)\n",
    "sns.scatterplot(x='age',y='price',data=emaar_sales)"
   ]
  },
  {
   "cell_type": "code",
   "execution_count": 26,
   "id": "6bfdcf9d",
   "metadata": {},
   "outputs": [
    {
     "data": {
      "text/plain": [
       "<Axes: >"
      ]
     },
     "execution_count": 26,
     "metadata": {},
     "output_type": "execute_result"
    },
    {
     "data": {
      "image/png": "[encoded data removed]",
      "text/plain": [
       "<Figure size 640x480 with 2 Axes>"
      ]
     },
     "metadata": {},
     "output_type": "display_data"
    }
   ],
   "source": [
    "sns.heatmap(emaar_sales.corr(),annot=True)"
   ]
  },
  {
   "cell_type": "code",
   "execution_count": 27,
   "id": "4fa14755",
   "metadata": {},
   "outputs": [
    {
     "data": {
      "text/plain": [
       "gender\n",
       "Female    860329.36\n",
       "Male      651473.68\n",
       "Name: price, dtype: float64"
      ]
     },
     "execution_count": 27,
     "metadata": {},
     "output_type": "execute_result"
    }
   ],
   "source": [
    "emaar_df.groupby('gender')['price'].sum() # highest amount of sales came from women in emmar_mall"
   ]
  },
  {
   "cell_type": "code",
   "execution_count": 28,
   "id": "62ec4aaa",
   "metadata": {},
   "outputs": [
    {
     "data": {
      "text/plain": [
       "dtype('<M8[ns]')"
      ]
     },
     "execution_count": 28,
     "metadata": {},
     "output_type": "execute_result"
    }
   ],
   "source": [
    "emaar_df['invoice_date'].dtype"
   ]
  },
  {
   "cell_type": "code",
   "execution_count": 29,
   "id": "197dae23",
   "metadata": {},
   "outputs": [
    {
     "data": {
      "text/plain": [
       "20       2023\n",
       "31       2021\n",
       "125      2021\n",
       "163      2023\n",
       "242      2022\n",
       "         ... \n",
       "99216    2021\n",
       "99268    2022\n",
       "99378    2021\n",
       "99385    2022\n",
       "99435    2022\n",
       "Name: year, Length: 1651, dtype: int64"
      ]
     },
     "execution_count": 29,
     "metadata": {},
     "output_type": "execute_result"
    }
   ],
   "source": [
    "emaar_df['year'] = emaar_df['invoice_date'].dt.year\n",
    "emaar_df['year']"
   ]
  },
  {
   "cell_type": "code",
   "execution_count": 30,
   "id": "b6438f54",
   "metadata": {},
   "outputs": [
    {
     "data": {
      "text/plain": [
       "20        2\n",
       "31       11\n",
       "125       8\n",
       "163       9\n",
       "242       1\n",
       "         ..\n",
       "99216     5\n",
       "99268    10\n",
       "99378     4\n",
       "99385    11\n",
       "99435     2\n",
       "Name: month, Length: 1651, dtype: int64"
      ]
     },
     "execution_count": 30,
     "metadata": {},
     "output_type": "execute_result"
    }
   ],
   "source": [
    "emaar_df['month'] = emaar_df['invoice_date'].dt.month\n",
    "emaar_df['month']"
   ]
  },
  {
   "cell_type": "code",
   "execution_count": 31,
   "id": "5196eea1",
   "metadata": {},
   "outputs": [
    {
     "data": {
      "text/html": [
       "<div>\n",
       "<style scoped>\n",
       "    .dataframe tbody tr th:only-of-type {\n",
       "        vertical-align: middle;\n",
       "    }\n",
       "\n",
       "    .dataframe tbody tr th {\n",
       "        vertical-align: top;\n",
       "    }\n",
       "\n",
       "    .dataframe thead th {\n",
       "        text-align: right;\n",
       "    }\n",
       "</style>\n",
       "<table border=\"1\" class=\"dataframe\">\n",
       "  <thead>\n",
       "    <tr style=\"text-align: right;\">\n",
       "      <th></th>\n",
       "      <th>invoice_no</th>\n",
       "      <th>customer_id</th>\n",
       "      <th>gender</th>\n",
       "      <th>age</th>\n",
       "      <th>category</th>\n",
       "      <th>quantity</th>\n",
       "      <th>price</th>\n",
       "      <th>payment_method</th>\n",
       "      <th>invoice_date</th>\n",
       "      <th>shopping_mall</th>\n",
       "      <th>year</th>\n",
       "      <th>month</th>\n",
       "    </tr>\n",
       "  </thead>\n",
       "  <tbody>\n",
       "    <tr>\n",
       "      <th>20</th>\n",
       "      <td>I183746</td>\n",
       "      <td>C220180</td>\n",
       "      <td>Male</td>\n",
       "      <td>23</td>\n",
       "      <td>Clothing</td>\n",
       "      <td>1</td>\n",
       "      <td>300.08</td>\n",
       "      <td>Credit Card</td>\n",
       "      <td>2023-02-15</td>\n",
       "      <td>Emaar Square Mall</td>\n",
       "      <td>2023</td>\n",
       "      <td>2</td>\n",
       "    </tr>\n",
       "    <tr>\n",
       "      <th>31</th>\n",
       "      <td>I331891</td>\n",
       "      <td>C501658</td>\n",
       "      <td>Male</td>\n",
       "      <td>23</td>\n",
       "      <td>Clothing</td>\n",
       "      <td>1</td>\n",
       "      <td>300.08</td>\n",
       "      <td>Credit Card</td>\n",
       "      <td>2021-11-21</td>\n",
       "      <td>Emaar Square Mall</td>\n",
       "      <td>2021</td>\n",
       "      <td>11</td>\n",
       "    </tr>\n",
       "    <tr>\n",
       "      <th>125</th>\n",
       "      <td>I273890</td>\n",
       "      <td>C891545</td>\n",
       "      <td>Female</td>\n",
       "      <td>41</td>\n",
       "      <td>Clothing</td>\n",
       "      <td>3</td>\n",
       "      <td>900.24</td>\n",
       "      <td>Debit Card</td>\n",
       "      <td>2021-08-26</td>\n",
       "      <td>Emaar Square Mall</td>\n",
       "      <td>2021</td>\n",
       "      <td>8</td>\n",
       "    </tr>\n",
       "    <tr>\n",
       "      <th>163</th>\n",
       "      <td>I222086</td>\n",
       "      <td>C978718</td>\n",
       "      <td>Male</td>\n",
       "      <td>37</td>\n",
       "      <td>Clothing</td>\n",
       "      <td>5</td>\n",
       "      <td>1500.40</td>\n",
       "      <td>Cash</td>\n",
       "      <td>2023-09-02</td>\n",
       "      <td>Emaar Square Mall</td>\n",
       "      <td>2023</td>\n",
       "      <td>9</td>\n",
       "    </tr>\n",
       "    <tr>\n",
       "      <th>242</th>\n",
       "      <td>I165461</td>\n",
       "      <td>C230766</td>\n",
       "      <td>Female</td>\n",
       "      <td>25</td>\n",
       "      <td>Clothing</td>\n",
       "      <td>1</td>\n",
       "      <td>300.08</td>\n",
       "      <td>Credit Card</td>\n",
       "      <td>2022-01-11</td>\n",
       "      <td>Emaar Square Mall</td>\n",
       "      <td>2022</td>\n",
       "      <td>1</td>\n",
       "    </tr>\n",
       "  </tbody>\n",
       "</table>\n",
       "</div>"
      ],
      "text/plain": [
       "    invoice_no customer_id  gender  age  category  quantity    price  \\\n",
       "20     I183746     C220180    Male   23  Clothing         1   300.08   \n",
       "31     I331891     C501658    Male   23  Clothing         1   300.08   \n",
       "125    I273890     C891545  Female   41  Clothing         3   900.24   \n",
       "163    I222086     C978718    Male   37  Clothing         5  1500.40   \n",
       "242    I165461     C230766  Female   25  Clothing         1   300.08   \n",
       "\n",
       "    payment_method invoice_date      shopping_mall  year  month  \n",
       "20     Credit Card   2023-02-15  Emaar Square Mall  2023      2  \n",
       "31     Credit Card   2021-11-21  Emaar Square Mall  2021     11  \n",
       "125     Debit Card   2021-08-26  Emaar Square Mall  2021      8  \n",
       "163           Cash   2023-09-02  Emaar Square Mall  2023      9  \n",
       "242    Credit Card   2022-01-11  Emaar Square Mall  2022      1  "
      ]
     },
     "execution_count": 31,
     "metadata": {},
     "output_type": "execute_result"
    }
   ],
   "source": [
    "emaar_df.head()"
   ]
  },
  {
   "cell_type": "code",
   "execution_count": 32,
   "id": "045614a5",
   "metadata": {},
   "outputs": [
    {
     "data": {
      "text/plain": [
       "year\n",
       "2021    695585.44\n",
       "2022    695885.52\n",
       "2023    120332.08\n",
       "Name: price, dtype: float64"
      ]
     },
     "execution_count": 32,
     "metadata": {},
     "output_type": "execute_result"
    }
   ],
   "source": [
    "emaar_df.groupby('year')['price'].sum()"
   ]
  },
  {
   "cell_type": "code",
   "execution_count": 33,
   "id": "0597d155",
   "metadata": {},
   "outputs": [
    {
     "data": {
      "text/plain": [
       "2022"
      ]
     },
     "execution_count": 33,
     "metadata": {},
     "output_type": "execute_result"
    }
   ],
   "source": [
    "emaar_df.groupby('year')['price'].sum().idxmax()"
   ]
  },
  {
   "cell_type": "code",
   "execution_count": 34,
   "id": "a9de4b62",
   "metadata": {},
   "outputs": [
    {
     "data": {
      "text/plain": [
       "2023"
      ]
     },
     "execution_count": 34,
     "metadata": {},
     "output_type": "execute_result"
    }
   ],
   "source": [
    "emaar_df.groupby('year')['price'].sum().idxmin()"
   ]
  },
  {
   "cell_type": "code",
   "execution_count": 35,
   "id": "90950bd0",
   "metadata": {},
   "outputs": [
    {
     "ename": "SyntaxError",
     "evalue": "invalid syntax (48655510.py, line 2)",
     "output_type": "error",
     "traceback": [
      "\u001b[1;36m  Cell \u001b[1;32mIn[35], line 2\u001b[1;36m\u001b[0m\n\u001b[1;33m    pd.pivot_table(index = 'month',values = 'price',aggfunc='sum',data=emaar_df).plot(kind'bar')\u001b[0m\n\u001b[1;37m                                                                                          ^\u001b[0m\n\u001b[1;31mSyntaxError\u001b[0m\u001b[1;31m:\u001b[0m invalid syntax\n"
     ]
    }
   ],
   "source": [
    "emaar_df.groupby('month')['price'].sum()\n",
    "pd.pivot_table(index = 'month',values = 'price',aggfunc='sum',data=emaar_df).plot(kind'bar')"
   ]
  },
  {
   "cell_type": "code",
   "execution_count": 113,
   "id": "01211e8b",
   "metadata": {},
   "outputs": [
    {
     "data": {
      "image/png": "[encoded data removed]",
      "text/plain": [
       "<Figure size 640x480 with 1 Axes>"
      ]
     },
     "metadata": {},
     "output_type": "display_data"
    }
   ],
   "source": [
    "yearly_sales = pd.pivot_table(index='year',values='price',aggfunc='sum',data=emaar_df)\n",
    "yearly_sales.reset_index(inplace=True)\n",
    "sns.barplot(x='year',y='price',data=yearly_sales)\n",
    "plt.xlabel('year')\n",
    "plt.ylabel('sales')\n",
    "plt.title('Yearly Sales')\n",
    "plt.savefig('yearsales.png', bbox_inches='tight')\n",
    "plt.show()"
   ]
  },
  {
   "cell_type": "code",
   "execution_count": 37,
   "id": "ca6c5696",
   "metadata": {},
   "outputs": [
    {
     "data": {
      "text/plain": [
       "payment_method\n",
       "Cash           731\n",
       "Credit Card    567\n",
       "Debit Card     353\n",
       "Name: category, dtype: int64"
      ]
     },
     "execution_count": 37,
     "metadata": {},
     "output_type": "execute_result"
    }
   ],
   "source": [
    "emaar_df.groupby('payment_method')['category'].count()"
   ]
  },
  {
   "cell_type": "code",
   "execution_count": null,
   "id": "b1f1aaca",
   "metadata": {},
   "outputs": [],
   "source": [
    "#creating the model\n",
    "#the features are:\n"
   ]
  },
  {
   "cell_type": "code",
   "execution_count": 38,
   "id": "2cd3002b",
   "metadata": {},
   "outputs": [
    {
     "data": {
      "text/html": [
       "<div>\n",
       "<style scoped>\n",
       "    .dataframe tbody tr th:only-of-type {\n",
       "        vertical-align: middle;\n",
       "    }\n",
       "\n",
       "    .dataframe tbody tr th {\n",
       "        vertical-align: top;\n",
       "    }\n",
       "\n",
       "    .dataframe thead th {\n",
       "        text-align: right;\n",
       "    }\n",
       "</style>\n",
       "<table border=\"1\" class=\"dataframe\">\n",
       "  <thead>\n",
       "    <tr style=\"text-align: right;\">\n",
       "      <th>gender</th>\n",
       "      <th>Female</th>\n",
       "      <th>Male</th>\n",
       "    </tr>\n",
       "    <tr>\n",
       "      <th>year</th>\n",
       "      <th></th>\n",
       "      <th></th>\n",
       "    </tr>\n",
       "  </thead>\n",
       "  <tbody>\n",
       "    <tr>\n",
       "      <th>2021</th>\n",
       "      <td>394605.20</td>\n",
       "      <td>300980.24</td>\n",
       "    </tr>\n",
       "    <tr>\n",
       "      <th>2022</th>\n",
       "      <td>401206.96</td>\n",
       "      <td>294678.56</td>\n",
       "    </tr>\n",
       "    <tr>\n",
       "      <th>2023</th>\n",
       "      <td>64517.20</td>\n",
       "      <td>55814.88</td>\n",
       "    </tr>\n",
       "  </tbody>\n",
       "</table>\n",
       "</div>"
      ],
      "text/plain": [
       "gender     Female       Male\n",
       "year                        \n",
       "2021    394605.20  300980.24\n",
       "2022    401206.96  294678.56\n",
       "2023     64517.20   55814.88"
      ]
     },
     "execution_count": 38,
     "metadata": {},
     "output_type": "execute_result"
    }
   ],
   "source": [
    "pd.pivot_table(index = 'year',columns ='gender',values = 'price',aggfunc='sum',data=emaar_df)"
   ]
  },
  {
   "cell_type": "code",
   "execution_count": 80,
   "id": "b7bd0027",
   "metadata": {},
   "outputs": [
    {
     "data": {
      "text/html": [
       "<div>\n",
       "<style scoped>\n",
       "    .dataframe tbody tr th:only-of-type {\n",
       "        vertical-align: middle;\n",
       "    }\n",
       "\n",
       "    .dataframe tbody tr th {\n",
       "        vertical-align: top;\n",
       "    }\n",
       "\n",
       "    .dataframe thead th {\n",
       "        text-align: right;\n",
       "    }\n",
       "</style>\n",
       "<table border=\"1\" class=\"dataframe\">\n",
       "  <thead>\n",
       "    <tr style=\"text-align: right;\">\n",
       "      <th></th>\n",
       "      <th>shopping_mall</th>\n",
       "      <th>year_2021</th>\n",
       "      <th>year_2022</th>\n",
       "      <th>year_2023</th>\n",
       "      <th>total_sales</th>\n",
       "    </tr>\n",
       "  </thead>\n",
       "  <tbody>\n",
       "    <tr>\n",
       "      <th>0</th>\n",
       "      <td>Cevahir AVM</td>\n",
       "      <td>754701.20</td>\n",
       "      <td>666177.60</td>\n",
       "      <td>133535.60</td>\n",
       "      <td>1554414.40</td>\n",
       "    </tr>\n",
       "    <tr>\n",
       "      <th>1</th>\n",
       "      <td>Emaar Square Mall</td>\n",
       "      <td>695585.44</td>\n",
       "      <td>695885.52</td>\n",
       "      <td>120332.08</td>\n",
       "      <td>1511803.04</td>\n",
       "    </tr>\n",
       "    <tr>\n",
       "      <th>2</th>\n",
       "      <td>Forum Istanbul</td>\n",
       "      <td>717191.20</td>\n",
       "      <td>721992.48</td>\n",
       "      <td>132935.44</td>\n",
       "      <td>1572119.12</td>\n",
       "    </tr>\n",
       "    <tr>\n",
       "      <th>3</th>\n",
       "      <td>Istinye Park</td>\n",
       "      <td>1379767.84</td>\n",
       "      <td>1413076.72</td>\n",
       "      <td>257468.64</td>\n",
       "      <td>3050313.20</td>\n",
       "    </tr>\n",
       "    <tr>\n",
       "      <th>4</th>\n",
       "      <td>Kanyon</td>\n",
       "      <td>2848959.52</td>\n",
       "      <td>2779340.96</td>\n",
       "      <td>527240.56</td>\n",
       "      <td>6155541.04</td>\n",
       "    </tr>\n",
       "  </tbody>\n",
       "</table>\n",
       "</div>"
      ],
      "text/plain": [
       "       shopping_mall   year_2021   year_2022  year_2023  total_sales\n",
       "0        Cevahir AVM   754701.20   666177.60  133535.60   1554414.40\n",
       "1  Emaar Square Mall   695585.44   695885.52  120332.08   1511803.04\n",
       "2     Forum Istanbul   717191.20   721992.48  132935.44   1572119.12\n",
       "3       Istinye Park  1379767.84  1413076.72  257468.64   3050313.20\n",
       "4             Kanyon  2848959.52  2779340.96  527240.56   6155541.04"
      ]
     },
     "execution_count": 80,
     "metadata": {},
     "output_type": "execute_result"
    }
   ],
   "source": [
    "total_sales_df.head()"
   ]
  },
  {
   "cell_type": "code",
   "execution_count": 83,
   "id": "841bb144",
   "metadata": {},
   "outputs": [
    {
     "name": "stdout",
     "output_type": "stream",
     "text": [
      "Cevahir AVM\n",
      "Emaar Square Mall\n",
      "Forum Istanbul\n",
      "Istinye Park\n",
      "Kanyon\n",
      "Mall of Istanbul\n",
      "Metrocity\n",
      "Metropol AVM\n",
      "Viaport Outlet\n",
      "Zorlu Center\n"
     ]
    }
   ],
   "source": [
    "for mall in total_sales_df['shopping_mall']:\n",
    "    print(mall)"
   ]
  },
  {
   "cell_type": "code",
   "execution_count": 87,
   "id": "73d3255d",
   "metadata": {},
   "outputs": [
    {
     "data": {
      "text/html": [
       "<div>\n",
       "<style scoped>\n",
       "    .dataframe tbody tr th:only-of-type {\n",
       "        vertical-align: middle;\n",
       "    }\n",
       "\n",
       "    .dataframe tbody tr th {\n",
       "        vertical-align: top;\n",
       "    }\n",
       "\n",
       "    .dataframe thead th {\n",
       "        text-align: right;\n",
       "    }\n",
       "</style>\n",
       "<table border=\"1\" class=\"dataframe\">\n",
       "  <thead>\n",
       "    <tr style=\"text-align: right;\">\n",
       "      <th></th>\n",
       "      <th>shopping_mall</th>\n",
       "      <th>year_2021</th>\n",
       "      <th>year_2022</th>\n",
       "      <th>year_2023</th>\n",
       "      <th>total_sales</th>\n",
       "      <th>shopping_mall_encoded</th>\n",
       "    </tr>\n",
       "  </thead>\n",
       "  <tbody>\n",
       "    <tr>\n",
       "      <th>0</th>\n",
       "      <td>Cevahir AVM</td>\n",
       "      <td>754701.20</td>\n",
       "      <td>666177.60</td>\n",
       "      <td>133535.60</td>\n",
       "      <td>1554414.40</td>\n",
       "      <td>0</td>\n",
       "    </tr>\n",
       "    <tr>\n",
       "      <th>1</th>\n",
       "      <td>Emaar Square Mall</td>\n",
       "      <td>695585.44</td>\n",
       "      <td>695885.52</td>\n",
       "      <td>120332.08</td>\n",
       "      <td>1511803.04</td>\n",
       "      <td>1</td>\n",
       "    </tr>\n",
       "    <tr>\n",
       "      <th>2</th>\n",
       "      <td>Forum Istanbul</td>\n",
       "      <td>717191.20</td>\n",
       "      <td>721992.48</td>\n",
       "      <td>132935.44</td>\n",
       "      <td>1572119.12</td>\n",
       "      <td>2</td>\n",
       "    </tr>\n",
       "    <tr>\n",
       "      <th>3</th>\n",
       "      <td>Istinye Park</td>\n",
       "      <td>1379767.84</td>\n",
       "      <td>1413076.72</td>\n",
       "      <td>257468.64</td>\n",
       "      <td>3050313.20</td>\n",
       "      <td>3</td>\n",
       "    </tr>\n",
       "    <tr>\n",
       "      <th>4</th>\n",
       "      <td>Kanyon</td>\n",
       "      <td>2848959.52</td>\n",
       "      <td>2779340.96</td>\n",
       "      <td>527240.56</td>\n",
       "      <td>6155541.04</td>\n",
       "      <td>4</td>\n",
       "    </tr>\n",
       "    <tr>\n",
       "      <th>5</th>\n",
       "      <td>Mall of Istanbul</td>\n",
       "      <td>2877767.20</td>\n",
       "      <td>2828254.00</td>\n",
       "      <td>539543.84</td>\n",
       "      <td>6245565.04</td>\n",
       "      <td>5</td>\n",
       "    </tr>\n",
       "    <tr>\n",
       "      <th>6</th>\n",
       "      <td>Metrocity</td>\n",
       "      <td>2211589.60</td>\n",
       "      <td>2113763.52</td>\n",
       "      <td>394605.20</td>\n",
       "      <td>4719958.32</td>\n",
       "      <td>6</td>\n",
       "    </tr>\n",
       "    <tr>\n",
       "      <th>7</th>\n",
       "      <td>Metropol AVM</td>\n",
       "      <td>1469491.76</td>\n",
       "      <td>1428080.72</td>\n",
       "      <td>268871.68</td>\n",
       "      <td>3166444.16</td>\n",
       "      <td>7</td>\n",
       "    </tr>\n",
       "    <tr>\n",
       "      <th>8</th>\n",
       "      <td>Viaport Outlet</td>\n",
       "      <td>709689.20</td>\n",
       "      <td>700986.88</td>\n",
       "      <td>120032.00</td>\n",
       "      <td>1530708.08</td>\n",
       "      <td>8</td>\n",
       "    </tr>\n",
       "    <tr>\n",
       "      <th>9</th>\n",
       "      <td>Zorlu Center</td>\n",
       "      <td>700386.72</td>\n",
       "      <td>722892.72</td>\n",
       "      <td>145538.80</td>\n",
       "      <td>1568818.24</td>\n",
       "      <td>9</td>\n",
       "    </tr>\n",
       "  </tbody>\n",
       "</table>\n",
       "</div>"
      ],
      "text/plain": [
       "       shopping_mall   year_2021   year_2022  year_2023  total_sales  \\\n",
       "0        Cevahir AVM   754701.20   666177.60  133535.60   1554414.40   \n",
       "1  Emaar Square Mall   695585.44   695885.52  120332.08   1511803.04   \n",
       "2     Forum Istanbul   717191.20   721992.48  132935.44   1572119.12   \n",
       "3       Istinye Park  1379767.84  1413076.72  257468.64   3050313.20   \n",
       "4             Kanyon  2848959.52  2779340.96  527240.56   6155541.04   \n",
       "5   Mall of Istanbul  2877767.20  2828254.00  539543.84   6245565.04   \n",
       "6          Metrocity  2211589.60  2113763.52  394605.20   4719958.32   \n",
       "7       Metropol AVM  1469491.76  1428080.72  268871.68   3166444.16   \n",
       "8     Viaport Outlet   709689.20   700986.88  120032.00   1530708.08   \n",
       "9       Zorlu Center   700386.72   722892.72  145538.80   1568818.24   \n",
       "\n",
       "   shopping_mall_encoded  \n",
       "0                      0  \n",
       "1                      1  \n",
       "2                      2  \n",
       "3                      3  \n",
       "4                      4  \n",
       "5                      5  \n",
       "6                      6  \n",
       "7                      7  \n",
       "8                      8  \n",
       "9                      9  "
      ]
     },
     "execution_count": 87,
     "metadata": {},
     "output_type": "execute_result"
    }
   ],
   "source": [
    "mall_mapping = {\n",
    "    'Cevahir AVM': 0,\n",
    "    'Emaar Square Mall': 1,\n",
    "    'Forum Istanbul': 2,\n",
    "    'Istinye Park': 3,\n",
    "    'Kanyon': 4,\n",
    "    'Mall of Istanbul': 5,\n",
    "    'Metrocity': 6,\n",
    "    'Metropol AVM': 7,\n",
    "    'Viaport Outlet': 8,\n",
    "    'Zorlu Center': 9\n",
    "}\n",
    "total_sales_df['shopping_mall_encoded'] = total_sales_df['shopping_mall'].map(mall_mapping)\n",
    "total_sales_df"
   ]
  },
  {
   "cell_type": "code",
   "execution_count": null,
   "id": "b7f74003",
   "metadata": {},
   "outputs": [],
   "source": [
    "#splitting the data\n",
    "X = total_sales_df[['shopping_mall_encoded','year_2021','year_2022','year_2023']]"
   ]
  },
  {
   "cell_type": "code",
   "execution_count": null,
   "id": "f18a61d9",
   "metadata": {},
   "outputs": [],
   "source": [
    "y = total_sales_df['total_sales']"
   ]
  },
  {
   "cell_type": "code",
   "execution_count": null,
   "id": "2654b3e0",
   "metadata": {},
   "outputs": [],
   "source": [
    "#splitting the data\n",
    "from sklearn.model_selection import train_test_split"
   ]
  },
  {
   "cell_type": "code",
   "execution_count": null,
   "id": "b1a23d79",
   "metadata": {},
   "outputs": [],
   "source": []
  },
  {
   "cell_type": "code",
   "execution_count": null,
   "id": "8c85187b",
   "metadata": {},
   "outputs": [],
   "source": []
  },
  {
   "cell_type": "code",
   "execution_count": null,
   "id": "a6bd8442",
   "metadata": {},
   "outputs": [],
   "source": []
  },
  {
   "cell_type": "code",
   "execution_count": 45,
   "id": "6b058b6e",
   "metadata": {},
   "outputs": [],
   "source": []
  },
  {
   "cell_type": "code",
   "execution_count": null,
   "id": "d197c859",
   "metadata": {},
   "outputs": [],
   "source": []
  }
 ],
 "metadata": {
  "kernelspec": {
   "display_name": "Python 3 (ipykernel)",
   "language": "python",
   "name": "python3"
  },
  "language_info": {
   "codemirror_mode": {
    "name": "ipython",
    "version": 3
   },
   "file_extension": ".py",
   "mimetype": "text/x-python",
   "name": "python",
   "nbconvert_exporter": "python",
   "pygments_lexer": "ipython3",
   "version": "3.10.9"
  }
 },
 "nbformat": 4,
 "nbformat_minor": 5
}
